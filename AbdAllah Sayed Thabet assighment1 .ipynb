{
 "cells": [
  {
   "cell_type": "code",
   "execution_count": null,
   "id": "e919d6a0",
   "metadata": {},
   "outputs": [],
   "source": []
  },
  {
   "cell_type": "code",
   "execution_count": 36,
   "id": "7f368e93",
   "metadata": {},
   "outputs": [
    {
     "name": "stdout",
     "output_type": "stream",
     "text": [
      "131.04048501709997\n",
      "99.0684142871\n",
      "115.02694415950002\n"
     ]
    }
   ],
   "source": [
    "from pyopenms import *\n",
    "\n",
    "print(AASequence.fromString(\"M\").getMonoWeight(Residue.ResidueType.Internal, 0))\n",
    "print(AASequence.fromString(\"V\").getMonoWeight(Residue.ResidueType.Internal, 0))\n",
    "print(AASequence.fromString(\"D\").getMonoWeight(Residue.ResidueType.Internal, 0))"
   ]
  },
  {
   "cell_type": "code",
   "execution_count": 37,
   "id": "d648342f",
   "metadata": {},
   "outputs": [
    {
     "name": "stdout",
     "output_type": "stream",
     "text": [
      "369.2376059889\n"
     ]
    }
   ],
   "source": [
    "#Assighment 1 AbdAllah Sayed Thabet G3_S1\n",
    "# problem prove : mass (VAKA) =mass (V) + mass(A) + mass (K) + mass(A) \n",
    "from pyopenms import *\n",
    "\n",
    "print(AASequence.fromString(\"VAKA\").getMonoWeight(Residue.ResidueType.Internal, 0))\n"
   ]
  },
  {
   "cell_type": "code",
   "execution_count": 33,
   "id": "fb43eff4",
   "metadata": {},
   "outputs": [
    {
     "name": "stdout",
     "output_type": "stream",
     "text": [
      "99.0684142871\n",
      "71.0371141595\n",
      "128.09496338280002\n",
      "71.0371141595\n",
      "99.0684142871\n",
      "369.2376059889\n"
     ]
    }
   ],
   "source": [
    "from pyopenms import *\n",
    "\n",
    "print(AASequence.fromString(\"V\").getMonoWeight(Residue.ResidueType.Internal, 0))\n",
    "print(AASequence.fromString(\"A\").getMonoWeight(Residue.ResidueType.Internal, 0))\n",
    "print(AASequence.fromString(\"K\").getMonoWeight(Residue.ResidueType.Internal, 0))\n",
    "print(AASequence.fromString(\"A\").getMonoWeight(Residue.ResidueType.Internal, 0))\n",
    "\n",
    "a = AASequence.fromString(\"V\").getMonoWeight(Residue.ResidueType.Internal, 0)\n",
    "print (a)\n",
    "a1 = AASequence.fromString(\"A\").getMonoWeight(Residue.ResidueType.Internal, 0)\n",
    "a2 = AASequence.fromString(\"K\").getMonoWeight(Residue.ResidueType.Internal, 0)\n",
    "a3 = AASequence.fromString(\"A\").getMonoWeight(Residue.ResidueType.Internal, 0)\n",
    "\n",
    "print (a +a1 +a2 +a3 )"
   ]
  },
  {
   "cell_type": "code",
   "execution_count": null,
   "id": "8f0e78e4",
   "metadata": {},
   "outputs": [],
   "source": [
    "# This prove that mass (VAKA) =mass (V) + mass(A) + mass (K) + mass(A) = 369.2376059889 "
   ]
  },
  {
   "cell_type": "code",
   "execution_count": 35,
   "id": "99abc031",
   "metadata": {},
   "outputs": [
    {
     "name": "stdout",
     "output_type": "stream",
     "text": [
      "99.0684142871\n"
     ]
    }
   ],
   "source": [
    "print (a)"
   ]
  },
  {
   "cell_type": "code",
   "execution_count": 34,
   "id": "4945c2b3",
   "metadata": {},
   "outputs": [
    {
     "name": "stdout",
     "output_type": "stream",
     "text": [
      "Valine\n",
      "Val\n",
      "V\n",
      "117.14658151860637\n",
      "117.0789793509\n",
      "2.39\n",
      "C5H11N1O2\n"
     ]
    }
   ],
   "source": [
    "# ------------------------------------------------------------\n",
    "#-------------------------------------------------------------\n",
    "#--------------------------------------------------------------\n",
    "from pyopenms import*\n",
    "va = ResidueDB().getResidue(\"V\")\n",
    "print(va.getName())\n",
    "print(va.getThreeLetterCode())\n",
    "print(va.getOneLetterCode())\n",
    "print(va.getAverageWeight())\n",
    "print(va.getMonoWeight())\n",
    "print(va.getPka())\n",
    "print(va.getFormula().toString())"
   ]
  },
  {
   "cell_type": "code",
   "execution_count": 38,
   "id": "c845337f",
   "metadata": {},
   "outputs": [
    {
     "name": "stdout",
     "output_type": "stream",
     "text": [
      "Alanine\n",
      "Ala\n",
      "A\n",
      "89.09334670670223\n",
      "89.04767922330001\n",
      "2.35\n",
      "C3H7N1O2\n"
     ]
    }
   ],
   "source": [
    "from pyopenms import*\n",
    "vaa = ResidueDB().getResidue(\"A\")\n",
    "print(vaa.getName())\n",
    "print(vaa.getThreeLetterCode())\n",
    "print(vaa.getOneLetterCode())\n",
    "print(vaa.getAverageWeight())\n",
    "print(vaa.getMonoWeight())\n",
    "print(vaa.getPka())\n",
    "print(vaa.getFormula().toString())"
   ]
  },
  {
   "cell_type": "code",
   "execution_count": 41,
   "id": "f7f1bffe",
   "metadata": {},
   "outputs": [
    {
     "name": "stdout",
     "output_type": "stream",
     "text": [
      "Lysine\n",
      "Lys\n",
      "K\n",
      "146.18788276708446\n",
      "146.1055284466\n",
      "2.16\n",
      "C6H14N2O2\n"
     ]
    }
   ],
   "source": [
    "# ????????????\n",
    "from pyopenms import*\n",
    "vaaa = ResidueDB().getResidue(\"K\")\n",
    "print(vaaa.getName())\n",
    "print(vaaa.getThreeLetterCode())\n",
    "print(vaaa.getOneLetterCode())\n",
    "print(vaaa.getAverageWeight())\n",
    "print(vaaa.getMonoWeight())\n",
    "print(vaaa.getPka())\n",
    "print(vaaa.getFormula().toString())"
   ]
  },
  {
   "cell_type": "code",
   "execution_count": null,
   "id": "0a39ebeb",
   "metadata": {},
   "outputs": [],
   "source": []
  }
 ],
 "metadata": {
  "kernelspec": {
   "display_name": "Python 3 (ipykernel)",
   "language": "python",
   "name": "python3"
  },
  "language_info": {
   "codemirror_mode": {
    "name": "ipython",
    "version": 3
   },
   "file_extension": ".py",
   "mimetype": "text/x-python",
   "name": "python",
   "nbconvert_exporter": "python",
   "pygments_lexer": "ipython3",
   "version": "3.9.13"
  }
 },
 "nbformat": 4,
 "nbformat_minor": 5
}
