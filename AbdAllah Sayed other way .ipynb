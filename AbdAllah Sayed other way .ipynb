{
 "cells": [
  {
   "cell_type": "code",
   "execution_count": 52,
   "id": "b487bc8c",
   "metadata": {},
   "outputs": [
    {
     "name": "stdout",
     "output_type": "stream",
     "text": [
      "The peptide VAKA consists of the following amino acids:\n",
      "Valine    117.0789793509\n",
      "Alanine    89.0476792233\n",
      "Lysine    146.1055284466\n",
      "Alanine    89.0476792233\n",
      "441.2798662441\n",
      "369.2376059889\n"
     ]
    }
   ],
   "source": [
    "from pyopenms import *\n",
    "\n",
    "seq = AASequence.fromString(\"VAKA\")\n",
    "summ =0\n",
    "print(\"The peptide\", str(seq), \"consists of the following amino acids:\")\n",
    "for va in seq:\n",
    "    summ = summ + va.getMonoWeight()\n",
    "    print(va.getName(), \"  \", va.getMonoWeight())\n",
    "print (summ)\n",
    "\n",
    "#------------------------------------------------------\n",
    "# print(AASequence.fromString(\"VAKA\").getMonoWeight(Residue.ResidueType.Internal, 0))\n",
    "a = AASequence.fromString(\"VAKA\").getMonoWeight(Residue.ResidueType.Internal, 0)\n",
    "print (a)\n",
    "\n",
    "# print(\"T\") if summ = a else print(\"F\")"
   ]
  },
  {
   "cell_type": "code",
   "execution_count": 25,
   "id": "d06fdcfa",
   "metadata": {},
   "outputs": [
    {
     "name": "stdout",
     "output_type": "stream",
     "text": [
      "369.2376059889\n"
     ]
    }
   ],
   "source": [
    "\n",
    "print(AASequence.fromString(\"VAKA\").getMonoWeight(Residue.ResidueType.Internal, 0))"
   ]
  },
  {
   "cell_type": "code",
   "execution_count": 39,
   "id": "1dfe789e",
   "metadata": {},
   "outputs": [],
   "source": [
    "vaka = AASequence.fromString(\"VAKA\").getMonoWeight(Residue.ResidueType.Internal, 0)"
   ]
  },
  {
   "cell_type": "code",
   "execution_count": null,
   "id": "615398a6",
   "metadata": {},
   "outputs": [],
   "source": []
  }
 ],
 "metadata": {
  "kernelspec": {
   "display_name": "Python 3 (ipykernel)",
   "language": "python",
   "name": "python3"
  },
  "language_info": {
   "codemirror_mode": {
    "name": "ipython",
    "version": 3
   },
   "file_extension": ".py",
   "mimetype": "text/x-python",
   "name": "python",
   "nbconvert_exporter": "python",
   "pygments_lexer": "ipython3",
   "version": "3.9.13"
  }
 },
 "nbformat": 4,
 "nbformat_minor": 5
}
